{
 "cells": [
  {
   "cell_type": "code",
   "execution_count": 1,
   "id": "4e8592ce",
   "metadata": {},
   "outputs": [],
   "source": [
    "# Import the random module.\n",
    "import random"
   ]
  },
  {
   "cell_type": "code",
   "execution_count": 2,
   "id": "9eafd5cd",
   "metadata": {},
   "outputs": [
    {
     "data": {
      "text/plain": [
       "-36"
      ]
     },
     "execution_count": 2,
     "metadata": {},
     "output_type": "execute_result"
    }
   ],
   "source": [
    "random.randint(-90,90)"
   ]
  },
  {
   "cell_type": "code",
   "execution_count": 3,
   "id": "44662d14",
   "metadata": {},
   "outputs": [
    {
     "data": {
      "text/plain": [
       "0.24082212154685956"
      ]
     },
     "execution_count": 3,
     "metadata": {},
     "output_type": "execute_result"
    }
   ],
   "source": [
    "random.random()"
   ]
  },
  {
   "cell_type": "code",
   "execution_count": 4,
   "id": "d3ba3fb9",
   "metadata": {},
   "outputs": [
    {
     "data": {
      "text/plain": [
       "-8.069508586332994"
      ]
     },
     "execution_count": 4,
     "metadata": {},
     "output_type": "execute_result"
    }
   ],
   "source": [
    "random_number=random.randint(-90,89)+random.random()\n",
    "random_number"
   ]
  },
  {
   "cell_type": "code",
   "execution_count": 7,
   "id": "aa73499f",
   "metadata": {},
   "outputs": [
    {
     "data": {
      "text/plain": [
       "[22.196624305297203,\n",
       " 35.3240840039678,\n",
       " 43.67786241410677,\n",
       " 20.67442134753732,\n",
       " -49.42181245819349,\n",
       " -28.71779520661066,\n",
       " -84.01078410866006,\n",
       " -63.77313784843963,\n",
       " 60.68144030005346,\n",
       " -88.88447131928936]"
      ]
     },
     "execution_count": 7,
     "metadata": {},
     "output_type": "execute_result"
    }
   ],
   "source": [
    "x = 1\n",
    "latitudes = []\n",
    "while x<11:\n",
    "    random_lat = random.randint(-90,89)+random.random()\n",
    "    latitudes.append(random_lat)\n",
    "    x += 1\n",
    "    \n",
    "    \n",
    "latitudes"
   ]
  },
  {
   "cell_type": "code",
   "execution_count": 8,
   "id": "e6d03314",
   "metadata": {},
   "outputs": [
    {
     "data": {
      "text/plain": [
       "-24"
      ]
     },
     "execution_count": 8,
     "metadata": {},
     "output_type": "execute_result"
    }
   ],
   "source": [
    "random.randrange(-90,90,step=1)"
   ]
  },
  {
   "cell_type": "code",
   "execution_count": 9,
   "id": "23253046",
   "metadata": {},
   "outputs": [
    {
     "data": {
      "text/plain": [
       "-6"
      ]
     },
     "execution_count": 9,
     "metadata": {},
     "output_type": "execute_result"
    }
   ],
   "source": [
    "random.randrange(-90,90,step=3)"
   ]
  },
  {
   "cell_type": "code",
   "execution_count": 10,
   "id": "cd39e6fe",
   "metadata": {},
   "outputs": [
    {
     "data": {
      "text/plain": [
       "64.65989828667148"
      ]
     },
     "execution_count": 10,
     "metadata": {},
     "output_type": "execute_result"
    }
   ],
   "source": [
    "random.uniform(-90,90)"
   ]
  },
  {
   "cell_type": "code",
   "execution_count": 11,
   "id": "92cff368",
   "metadata": {},
   "outputs": [],
   "source": [
    "# Import the NumPy module.\n",
    "import numpy as np"
   ]
  },
  {
   "cell_type": "code",
   "execution_count": 12,
   "id": "474d666e",
   "metadata": {},
   "outputs": [
    {
     "data": {
      "text/plain": [
       "41.370398037534756"
      ]
     },
     "execution_count": 12,
     "metadata": {},
     "output_type": "execute_result"
    }
   ],
   "source": [
    "np.random.uniform(-90.000,90.000)"
   ]
  },
  {
   "cell_type": "code",
   "execution_count": 13,
   "id": "a67ac830",
   "metadata": {},
   "outputs": [
    {
     "data": {
      "text/plain": [
       "71.97411978951354"
      ]
     },
     "execution_count": 13,
     "metadata": {},
     "output_type": "execute_result"
    }
   ],
   "source": [
    "np.random.uniform(-90,90)"
   ]
  },
  {
   "cell_type": "code",
   "execution_count": 14,
   "id": "b52d1b96",
   "metadata": {},
   "outputs": [
    {
     "data": {
      "text/plain": [
       "-41.69675452754442"
      ]
     },
     "execution_count": 14,
     "metadata": {},
     "output_type": "execute_result"
    }
   ],
   "source": [
    "np.random.uniform(low=-90,high=90)"
   ]
  },
  {
   "cell_type": "code",
   "execution_count": 15,
   "id": "f0ea1ec2",
   "metadata": {},
   "outputs": [
    {
     "data": {
      "text/plain": [
       "array([ 23.59736975, -19.92006389,  66.88548813, -64.82966706,\n",
       "       -83.88376204,  87.38168986,  -2.33176917, -27.14258592,\n",
       "       -61.5655647 ,  30.10463205, -29.03347894,  31.18167508,\n",
       "         3.30143448,  83.55491503, -34.0353474 ,  82.80425886,\n",
       "       -88.32769877,  71.09609019,  -1.53951965,  67.34483792,\n",
       "        27.55444658, -47.5681847 ,  -2.98408099, -57.86440143,\n",
       "        81.1750875 , -51.56483015, -42.7693274 , -57.23244102,\n",
       "        -1.05660372,  20.44820871,  83.25667592, -89.46097707,\n",
       "        25.57856466,  88.99986216, -61.32551609, -11.88106985,\n",
       "        30.2248077 ,  66.95277271,  35.80934982,  50.95660099,\n",
       "       -68.69079693,  21.9333777 ,  74.27642259,  28.19343148,\n",
       "        88.0465081 ,  14.19541132, -32.58298619,  72.31030159,\n",
       "       -13.18984391, -51.25822771])"
      ]
     },
     "execution_count": 15,
     "metadata": {},
     "output_type": "execute_result"
    }
   ],
   "source": [
    "np.random.uniform(-90.000,90.000,size=50)"
   ]
  },
  {
   "cell_type": "code",
   "execution_count": 16,
   "id": "de18aaf1",
   "metadata": {},
   "outputs": [],
   "source": [
    "# Import timeit.\n",
    "import timeit"
   ]
  },
  {
   "cell_type": "code",
   "execution_count": 17,
   "id": "4e61da0f",
   "metadata": {},
   "outputs": [
    {
     "name": "stdout",
     "output_type": "stream",
     "text": [
      "14.8 µs ± 2.17 µs per loop (mean ± std. dev. of 7 runs, 100000 loops each)\n"
     ]
    }
   ],
   "source": [
    "%timeit np.random.uniform(-90.000,90.000,size=1500)"
   ]
  },
  {
   "cell_type": "code",
   "execution_count": 20,
   "id": "1d123e29",
   "metadata": {},
   "outputs": [
    {
     "name": "stdout",
     "output_type": "stream",
     "text": [
      "1.5 ms ± 18.3 µs per loop (mean ± std. dev. of 7 runs, 1000 loops each)\n"
     ]
    }
   ],
   "source": [
    "def latitudes(size):\n",
    "    latitudes=[]\n",
    "    x=0\n",
    "    while x<(size):\n",
    "        random_lat = random.randint(-90,90)+random.random()\n",
    "        latitudes.append(random_lat)\n",
    "        x+=1\n",
    "    return latitudes\n",
    "\n",
    "# Call the function with 1500.\n",
    "%timeit latitudes(1500)"
   ]
  },
  {
   "cell_type": "code",
   "execution_count": 25,
   "id": "af8d4878",
   "metadata": {},
   "outputs": [
    {
     "name": "stdout",
     "output_type": "stream",
     "text": [
      "103 ns ± 4.41 ns per loop (mean ± std. dev. of 7 runs, 10000000 loops each)\n"
     ]
    }
   ],
   "source": [
    "def latitudes(size):\n",
    "    latitudes=[]\n",
    "    x=0\n",
    "    for x in latitudes:\n",
    "        random_lat = random.randint(-90,90)+random.random()\n",
    "        latitudes.append(random_lat)\n",
    "     \n",
    "    return latitudes\n",
    "\n",
    "# Call the function with 1500.\n",
    "%timeit latitudes(1500)"
   ]
  },
  {
   "cell_type": "code",
   "execution_count": 1,
   "id": "16c8b327",
   "metadata": {},
   "outputs": [
    {
     "data": {
      "text/plain": [
       "'2.27.1'"
      ]
     },
     "execution_count": 1,
     "metadata": {},
     "output_type": "execute_result"
    }
   ],
   "source": [
    "import requests\n",
    "requests.__version__"
   ]
  },
  {
   "cell_type": "code",
   "execution_count": null,
   "id": "d5b113a1",
   "metadata": {},
   "outputs": [],
   "source": []
  }
 ],
 "metadata": {
  "kernelspec": {
   "display_name": "PythonData",
   "language": "python",
   "name": "pythondata"
  },
  "language_info": {
   "codemirror_mode": {
    "name": "ipython",
    "version": 3
   },
   "file_extension": ".py",
   "mimetype": "text/x-python",
   "name": "python",
   "nbconvert_exporter": "python",
   "pygments_lexer": "ipython3",
   "version": "3.7.13"
  }
 },
 "nbformat": 4,
 "nbformat_minor": 5
}
